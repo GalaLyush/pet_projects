{
 "cells": [
  {
   "cell_type": "markdown",
   "metadata": {},
   "source": [
    "# Исследование объявлений о продаже квартир\n",
    "\n",
    "В вашем распоряжении данные сервиса Яндекс.Недвижимость — архив объявлений о продаже квартир в Санкт-Петербурге и соседних населённых пунктов за несколько лет. Нужно научиться определять рыночную стоимость объектов недвижимости. Ваша задача — установить параметры. Это позволит построить автоматизированную систему: она отследит аномалии и мошенническую деятельность. \n",
    "\n",
    "По каждой квартире на продажу доступны два вида данных. Первые вписаны пользователем, вторые — получены автоматически на основе картографических данных. Например, расстояние до центра, аэропорта, ближайшего парка и водоёма. "
   ]
  },
  {
   "cell_type": "markdown",
   "metadata": {},
   "source": [
    "### Шаг 1. Открываем файл с данными и изучаем общую информацию. "
   ]
  },
  {
   "cell_type": "code",
   "execution_count": 1,
   "metadata": {},
   "outputs": [],
   "source": [
    "#импортируем библиотеку\n",
    "import pandas as pd"
   ]
  },
  {
   "cell_type": "code",
   "execution_count": 2,
   "metadata": {},
   "outputs": [],
   "source": [
    "#читаем файл с данными и сохраняем его в flat\n",
    "flat = pd.read_csv('C:/Users/asus/Downloads/real_estate_data.csv', sep='\\t')"
   ]
  },
  {
   "cell_type": "code",
   "execution_count": 3,
   "metadata": {},
   "outputs": [
    {
     "data": {
      "text/html": [
       "<div>\n",
       "<style scoped>\n",
       "    .dataframe tbody tr th:only-of-type {\n",
       "        vertical-align: middle;\n",
       "    }\n",
       "\n",
       "    .dataframe tbody tr th {\n",
       "        vertical-align: top;\n",
       "    }\n",
       "\n",
       "    .dataframe thead th {\n",
       "        text-align: right;\n",
       "    }\n",
       "</style>\n",
       "<table border=\"1\" class=\"dataframe\">\n",
       "  <thead>\n",
       "    <tr style=\"text-align: right;\">\n",
       "      <th></th>\n",
       "      <th>total_images</th>\n",
       "      <th>last_price</th>\n",
       "      <th>total_area</th>\n",
       "      <th>first_day_exposition</th>\n",
       "      <th>rooms</th>\n",
       "      <th>ceiling_height</th>\n",
       "      <th>floors_total</th>\n",
       "      <th>living_area</th>\n",
       "      <th>floor</th>\n",
       "      <th>is_apartment</th>\n",
       "      <th>...</th>\n",
       "      <th>kitchen_area</th>\n",
       "      <th>balcony</th>\n",
       "      <th>locality_name</th>\n",
       "      <th>airports_nearest</th>\n",
       "      <th>cityCenters_nearest</th>\n",
       "      <th>parks_around3000</th>\n",
       "      <th>parks_nearest</th>\n",
       "      <th>ponds_around3000</th>\n",
       "      <th>ponds_nearest</th>\n",
       "      <th>days_exposition</th>\n",
       "    </tr>\n",
       "  </thead>\n",
       "  <tbody>\n",
       "    <tr>\n",
       "      <td>0</td>\n",
       "      <td>20</td>\n",
       "      <td>13000000.0</td>\n",
       "      <td>108.00</td>\n",
       "      <td>2019-03-07T00:00:00</td>\n",
       "      <td>3</td>\n",
       "      <td>2.70</td>\n",
       "      <td>16.0</td>\n",
       "      <td>51.00</td>\n",
       "      <td>8</td>\n",
       "      <td>NaN</td>\n",
       "      <td>...</td>\n",
       "      <td>25.00</td>\n",
       "      <td>NaN</td>\n",
       "      <td>Санкт-Петербург</td>\n",
       "      <td>18863.0</td>\n",
       "      <td>16028.0</td>\n",
       "      <td>1.0</td>\n",
       "      <td>482.0</td>\n",
       "      <td>2.0</td>\n",
       "      <td>755.0</td>\n",
       "      <td>NaN</td>\n",
       "    </tr>\n",
       "    <tr>\n",
       "      <td>1</td>\n",
       "      <td>7</td>\n",
       "      <td>3350000.0</td>\n",
       "      <td>40.40</td>\n",
       "      <td>2018-12-04T00:00:00</td>\n",
       "      <td>1</td>\n",
       "      <td>NaN</td>\n",
       "      <td>11.0</td>\n",
       "      <td>18.60</td>\n",
       "      <td>1</td>\n",
       "      <td>NaN</td>\n",
       "      <td>...</td>\n",
       "      <td>11.00</td>\n",
       "      <td>2.0</td>\n",
       "      <td>посёлок Шушары</td>\n",
       "      <td>12817.0</td>\n",
       "      <td>18603.0</td>\n",
       "      <td>0.0</td>\n",
       "      <td>NaN</td>\n",
       "      <td>0.0</td>\n",
       "      <td>NaN</td>\n",
       "      <td>81.0</td>\n",
       "    </tr>\n",
       "    <tr>\n",
       "      <td>2</td>\n",
       "      <td>10</td>\n",
       "      <td>5196000.0</td>\n",
       "      <td>56.00</td>\n",
       "      <td>2015-08-20T00:00:00</td>\n",
       "      <td>2</td>\n",
       "      <td>NaN</td>\n",
       "      <td>5.0</td>\n",
       "      <td>34.30</td>\n",
       "      <td>4</td>\n",
       "      <td>NaN</td>\n",
       "      <td>...</td>\n",
       "      <td>8.30</td>\n",
       "      <td>0.0</td>\n",
       "      <td>Санкт-Петербург</td>\n",
       "      <td>21741.0</td>\n",
       "      <td>13933.0</td>\n",
       "      <td>1.0</td>\n",
       "      <td>90.0</td>\n",
       "      <td>2.0</td>\n",
       "      <td>574.0</td>\n",
       "      <td>558.0</td>\n",
       "    </tr>\n",
       "    <tr>\n",
       "      <td>3</td>\n",
       "      <td>0</td>\n",
       "      <td>64900000.0</td>\n",
       "      <td>159.00</td>\n",
       "      <td>2015-07-24T00:00:00</td>\n",
       "      <td>3</td>\n",
       "      <td>NaN</td>\n",
       "      <td>14.0</td>\n",
       "      <td>NaN</td>\n",
       "      <td>9</td>\n",
       "      <td>NaN</td>\n",
       "      <td>...</td>\n",
       "      <td>NaN</td>\n",
       "      <td>0.0</td>\n",
       "      <td>Санкт-Петербург</td>\n",
       "      <td>28098.0</td>\n",
       "      <td>6800.0</td>\n",
       "      <td>2.0</td>\n",
       "      <td>84.0</td>\n",
       "      <td>3.0</td>\n",
       "      <td>234.0</td>\n",
       "      <td>424.0</td>\n",
       "    </tr>\n",
       "    <tr>\n",
       "      <td>4</td>\n",
       "      <td>2</td>\n",
       "      <td>10000000.0</td>\n",
       "      <td>100.00</td>\n",
       "      <td>2018-06-19T00:00:00</td>\n",
       "      <td>2</td>\n",
       "      <td>3.03</td>\n",
       "      <td>14.0</td>\n",
       "      <td>32.00</td>\n",
       "      <td>13</td>\n",
       "      <td>NaN</td>\n",
       "      <td>...</td>\n",
       "      <td>41.00</td>\n",
       "      <td>NaN</td>\n",
       "      <td>Санкт-Петербург</td>\n",
       "      <td>31856.0</td>\n",
       "      <td>8098.0</td>\n",
       "      <td>2.0</td>\n",
       "      <td>112.0</td>\n",
       "      <td>1.0</td>\n",
       "      <td>48.0</td>\n",
       "      <td>121.0</td>\n",
       "    </tr>\n",
       "    <tr>\n",
       "      <td>5</td>\n",
       "      <td>10</td>\n",
       "      <td>2890000.0</td>\n",
       "      <td>30.40</td>\n",
       "      <td>2018-09-10T00:00:00</td>\n",
       "      <td>1</td>\n",
       "      <td>NaN</td>\n",
       "      <td>12.0</td>\n",
       "      <td>14.40</td>\n",
       "      <td>5</td>\n",
       "      <td>NaN</td>\n",
       "      <td>...</td>\n",
       "      <td>9.10</td>\n",
       "      <td>NaN</td>\n",
       "      <td>городской посёлок Янино-1</td>\n",
       "      <td>NaN</td>\n",
       "      <td>NaN</td>\n",
       "      <td>NaN</td>\n",
       "      <td>NaN</td>\n",
       "      <td>NaN</td>\n",
       "      <td>NaN</td>\n",
       "      <td>55.0</td>\n",
       "    </tr>\n",
       "    <tr>\n",
       "      <td>6</td>\n",
       "      <td>6</td>\n",
       "      <td>3700000.0</td>\n",
       "      <td>37.30</td>\n",
       "      <td>2017-11-02T00:00:00</td>\n",
       "      <td>1</td>\n",
       "      <td>NaN</td>\n",
       "      <td>26.0</td>\n",
       "      <td>10.60</td>\n",
       "      <td>6</td>\n",
       "      <td>NaN</td>\n",
       "      <td>...</td>\n",
       "      <td>14.40</td>\n",
       "      <td>1.0</td>\n",
       "      <td>посёлок Парголово</td>\n",
       "      <td>52996.0</td>\n",
       "      <td>19143.0</td>\n",
       "      <td>0.0</td>\n",
       "      <td>NaN</td>\n",
       "      <td>0.0</td>\n",
       "      <td>NaN</td>\n",
       "      <td>155.0</td>\n",
       "    </tr>\n",
       "    <tr>\n",
       "      <td>7</td>\n",
       "      <td>5</td>\n",
       "      <td>7915000.0</td>\n",
       "      <td>71.60</td>\n",
       "      <td>2019-04-18T00:00:00</td>\n",
       "      <td>2</td>\n",
       "      <td>NaN</td>\n",
       "      <td>24.0</td>\n",
       "      <td>NaN</td>\n",
       "      <td>22</td>\n",
       "      <td>NaN</td>\n",
       "      <td>...</td>\n",
       "      <td>18.90</td>\n",
       "      <td>2.0</td>\n",
       "      <td>Санкт-Петербург</td>\n",
       "      <td>23982.0</td>\n",
       "      <td>11634.0</td>\n",
       "      <td>0.0</td>\n",
       "      <td>NaN</td>\n",
       "      <td>0.0</td>\n",
       "      <td>NaN</td>\n",
       "      <td>NaN</td>\n",
       "    </tr>\n",
       "    <tr>\n",
       "      <td>8</td>\n",
       "      <td>20</td>\n",
       "      <td>2900000.0</td>\n",
       "      <td>33.16</td>\n",
       "      <td>2018-05-23T00:00:00</td>\n",
       "      <td>1</td>\n",
       "      <td>NaN</td>\n",
       "      <td>27.0</td>\n",
       "      <td>15.43</td>\n",
       "      <td>26</td>\n",
       "      <td>NaN</td>\n",
       "      <td>...</td>\n",
       "      <td>8.81</td>\n",
       "      <td>NaN</td>\n",
       "      <td>посёлок Мурино</td>\n",
       "      <td>NaN</td>\n",
       "      <td>NaN</td>\n",
       "      <td>NaN</td>\n",
       "      <td>NaN</td>\n",
       "      <td>NaN</td>\n",
       "      <td>NaN</td>\n",
       "      <td>189.0</td>\n",
       "    </tr>\n",
       "    <tr>\n",
       "      <td>9</td>\n",
       "      <td>18</td>\n",
       "      <td>5400000.0</td>\n",
       "      <td>61.00</td>\n",
       "      <td>2017-02-26T00:00:00</td>\n",
       "      <td>3</td>\n",
       "      <td>2.50</td>\n",
       "      <td>9.0</td>\n",
       "      <td>43.60</td>\n",
       "      <td>7</td>\n",
       "      <td>NaN</td>\n",
       "      <td>...</td>\n",
       "      <td>6.50</td>\n",
       "      <td>2.0</td>\n",
       "      <td>Санкт-Петербург</td>\n",
       "      <td>50898.0</td>\n",
       "      <td>15008.0</td>\n",
       "      <td>0.0</td>\n",
       "      <td>NaN</td>\n",
       "      <td>0.0</td>\n",
       "      <td>NaN</td>\n",
       "      <td>289.0</td>\n",
       "    </tr>\n",
       "  </tbody>\n",
       "</table>\n",
       "<p>10 rows × 22 columns</p>\n",
       "</div>"
      ],
      "text/plain": [
       "   total_images  last_price  total_area first_day_exposition  rooms  \\\n",
       "0            20  13000000.0      108.00  2019-03-07T00:00:00      3   \n",
       "1             7   3350000.0       40.40  2018-12-04T00:00:00      1   \n",
       "2            10   5196000.0       56.00  2015-08-20T00:00:00      2   \n",
       "3             0  64900000.0      159.00  2015-07-24T00:00:00      3   \n",
       "4             2  10000000.0      100.00  2018-06-19T00:00:00      2   \n",
       "5            10   2890000.0       30.40  2018-09-10T00:00:00      1   \n",
       "6             6   3700000.0       37.30  2017-11-02T00:00:00      1   \n",
       "7             5   7915000.0       71.60  2019-04-18T00:00:00      2   \n",
       "8            20   2900000.0       33.16  2018-05-23T00:00:00      1   \n",
       "9            18   5400000.0       61.00  2017-02-26T00:00:00      3   \n",
       "\n",
       "   ceiling_height  floors_total  living_area  floor is_apartment  ...  \\\n",
       "0            2.70          16.0        51.00      8          NaN  ...   \n",
       "1             NaN          11.0        18.60      1          NaN  ...   \n",
       "2             NaN           5.0        34.30      4          NaN  ...   \n",
       "3             NaN          14.0          NaN      9          NaN  ...   \n",
       "4            3.03          14.0        32.00     13          NaN  ...   \n",
       "5             NaN          12.0        14.40      5          NaN  ...   \n",
       "6             NaN          26.0        10.60      6          NaN  ...   \n",
       "7             NaN          24.0          NaN     22          NaN  ...   \n",
       "8             NaN          27.0        15.43     26          NaN  ...   \n",
       "9            2.50           9.0        43.60      7          NaN  ...   \n",
       "\n",
       "   kitchen_area  balcony              locality_name  airports_nearest  \\\n",
       "0         25.00      NaN            Санкт-Петербург           18863.0   \n",
       "1         11.00      2.0             посёлок Шушары           12817.0   \n",
       "2          8.30      0.0            Санкт-Петербург           21741.0   \n",
       "3           NaN      0.0            Санкт-Петербург           28098.0   \n",
       "4         41.00      NaN            Санкт-Петербург           31856.0   \n",
       "5          9.10      NaN  городской посёлок Янино-1               NaN   \n",
       "6         14.40      1.0          посёлок Парголово           52996.0   \n",
       "7         18.90      2.0            Санкт-Петербург           23982.0   \n",
       "8          8.81      NaN             посёлок Мурино               NaN   \n",
       "9          6.50      2.0            Санкт-Петербург           50898.0   \n",
       "\n",
       "  cityCenters_nearest  parks_around3000  parks_nearest  ponds_around3000  \\\n",
       "0             16028.0               1.0          482.0               2.0   \n",
       "1             18603.0               0.0            NaN               0.0   \n",
       "2             13933.0               1.0           90.0               2.0   \n",
       "3              6800.0               2.0           84.0               3.0   \n",
       "4              8098.0               2.0          112.0               1.0   \n",
       "5                 NaN               NaN            NaN               NaN   \n",
       "6             19143.0               0.0            NaN               0.0   \n",
       "7             11634.0               0.0            NaN               0.0   \n",
       "8                 NaN               NaN            NaN               NaN   \n",
       "9             15008.0               0.0            NaN               0.0   \n",
       "\n",
       "   ponds_nearest  days_exposition  \n",
       "0          755.0              NaN  \n",
       "1            NaN             81.0  \n",
       "2          574.0            558.0  \n",
       "3          234.0            424.0  \n",
       "4           48.0            121.0  \n",
       "5            NaN             55.0  \n",
       "6            NaN            155.0  \n",
       "7            NaN              NaN  \n",
       "8            NaN            189.0  \n",
       "9            NaN            289.0  \n",
       "\n",
       "[10 rows x 22 columns]"
      ]
     },
     "execution_count": 3,
     "metadata": {},
     "output_type": "execute_result"
    }
   ],
   "source": [
    "#получим первые 10 строк таблицы\n",
    "flat.head(10)"
   ]
  },
  {
   "cell_type": "code",
   "execution_count": 4,
   "metadata": {},
   "outputs": [
    {
     "name": "stdout",
     "output_type": "stream",
     "text": [
      "<class 'pandas.core.frame.DataFrame'>\n",
      "RangeIndex: 23699 entries, 0 to 23698\n",
      "Data columns (total 22 columns):\n",
      "total_images            23699 non-null int64\n",
      "last_price              23699 non-null float64\n",
      "total_area              23699 non-null float64\n",
      "first_day_exposition    23699 non-null object\n",
      "rooms                   23699 non-null int64\n",
      "ceiling_height          14504 non-null float64\n",
      "floors_total            23613 non-null float64\n",
      "living_area             21796 non-null float64\n",
      "floor                   23699 non-null int64\n",
      "is_apartment            2775 non-null object\n",
      "studio                  23699 non-null bool\n",
      "open_plan               23699 non-null bool\n",
      "kitchen_area            21421 non-null float64\n",
      "balcony                 12180 non-null float64\n",
      "locality_name           23650 non-null object\n",
      "airports_nearest        18157 non-null float64\n",
      "cityCenters_nearest     18180 non-null float64\n",
      "parks_around3000        18181 non-null float64\n",
      "parks_nearest           8079 non-null float64\n",
      "ponds_around3000        18181 non-null float64\n",
      "ponds_nearest           9110 non-null float64\n",
      "days_exposition         20518 non-null float64\n",
      "dtypes: bool(2), float64(14), int64(3), object(3)\n",
      "memory usage: 3.7+ MB\n"
     ]
    }
   ],
   "source": [
    "#получим общую информацию о данных\n",
    "flat.info()"
   ]
  },
  {
   "cell_type": "markdown",
   "metadata": {},
   "source": [
    "### Вывод"
   ]
  },
  {
   "cell_type": "markdown",
   "metadata": {},
   "source": [
    "Мы получили таблицу из 22 столбцов.\n",
    "2 столбца имеют bool тип, 3 с типом object, у 3-х тип int64, а остальные 14 с типом float64.\n",
    "Почти половина столбцов имеют меньшее количество значений, это означает, что в них есть пропущенные значения. Пропущенные значения, вероятно, связаны с тем, что не в каждом объявлении о продаже квартир были заполнены все данные.\n",
    "\n",
    "* *airports_nearest* — расстояние до ближайшего аэропорта в метрах (м)\n",
    "* *balcony* — число балконов\n",
    "* *ceiling_height* — высота потолков (м)\n",
    "* *cityCenters_nearest* — расстояние до центра города (м)\n",
    "* *days_exposition* — сколько дней было размещено объявление (от публикации до снятия)\n",
    "* *first_day_exposition* — дата публикации\n",
    "* *floor* — этаж\n",
    "* *floors_total* — всего этажей в доме\n",
    "* *is_apartment* — апартаменты (булев тип)\n",
    "* *kitchen_area* — площадь кухни в квадратных метрах (м²)\n",
    "* *last_price* — цена на момент снятия с публикации\n",
    "* *living_area* — жилая площадь в квадратных метрах(м²)\n",
    "* *locality_name* — название населённого пункта\n",
    "* *open_plan* — свободная планировка (булев тип)\n",
    "* *parks_around3000* — число парков в радиусе 3 км\n",
    "* *parks_nearest* — расстояние до ближайшего парка (м)\n",
    "* *ponds_around3000* — число водоёмов в радиусе 3 км\n",
    "* *ponds_nearest* — расстояние до ближайшего водоёма (м)\n",
    "* *rooms* — число комнат\n",
    "* *studio* — квартира-студия (булев тип)\n",
    "* *total_area* — площадь квартиры в квадратных метрах (м²)\n",
    "* *total_images* — число фотографий квартиры в объявлении"
   ]
  },
  {
   "cell_type": "markdown",
   "metadata": {},
   "source": [
    "### Шаг 2. Предобработка данных"
   ]
  },
  {
   "cell_type": "code",
   "execution_count": 5,
   "metadata": {},
   "outputs": [
    {
     "data": {
      "text/plain": [
       "total_images                0\n",
       "last_price                  0\n",
       "total_area                  0\n",
       "first_day_exposition        0\n",
       "rooms                       0\n",
       "ceiling_height           9195\n",
       "floors_total               86\n",
       "living_area              1903\n",
       "floor                       0\n",
       "is_apartment            20924\n",
       "studio                      0\n",
       "open_plan                   0\n",
       "kitchen_area             2278\n",
       "balcony                 11519\n",
       "locality_name              49\n",
       "airports_nearest         5542\n",
       "cityCenters_nearest      5519\n",
       "parks_around3000         5518\n",
       "parks_nearest           15620\n",
       "ponds_around3000         5518\n",
       "ponds_nearest           14589\n",
       "days_exposition          3181\n",
       "dtype: int64"
      ]
     },
     "execution_count": 5,
     "metadata": {},
     "output_type": "execute_result"
    }
   ],
   "source": [
    "#получим суммарное значение пропусков в каждом столбце\n",
    "flat.isnull().sum()"
   ]
  },
  {
   "cell_type": "code",
   "execution_count": 6,
   "metadata": {},
   "outputs": [],
   "source": [
    "#заполнимим пропущенные значения в столбце с выстотой потолков на медиану\n",
    "flat['ceiling_height'] = flat['ceiling_height'].fillna(flat['ceiling_height'].median())"
   ]
  },
  {
   "cell_type": "code",
   "execution_count": 7,
   "metadata": {},
   "outputs": [],
   "source": [
    "#примем количество этажей в доме на значение этажа квартиры, т.е. представим, что квартира находится на последнем этаже\n",
    "flat['floors_total'] = flat['floors_total'].fillna(flat['floor'])"
   ]
  },
  {
   "cell_type": "code",
   "execution_count": 8,
   "metadata": {},
   "outputs": [
    {
     "data": {
      "text/plain": [
       "count    23699.000000\n",
       "mean        60.348651\n",
       "std         35.654083\n",
       "min         12.000000\n",
       "25%         40.000000\n",
       "50%         52.000000\n",
       "75%         69.900000\n",
       "max        900.000000\n",
       "Name: total_area, dtype: float64"
      ]
     },
     "execution_count": 8,
     "metadata": {},
     "output_type": "execute_result"
    }
   ],
   "source": [
    "#получим числовое описание столбца с общей площадью\n",
    "flat['total_area'].describe()"
   ]
  },
  {
   "cell_type": "code",
   "execution_count": 9,
   "metadata": {},
   "outputs": [],
   "source": [
    "#заменим пропущенные значения в столбце с площадью кухни на значения, в соответствии с общей площадью квартиры\n",
    "for total_area in range(len(flat)):\n",
    "    if total_area < 40:\n",
    "        flat['kitchen_area'] = flat['kitchen_area'].fillna(5)\n",
    "    if total_area < 52:\n",
    "        flat['kitchen_area'] = flat['kitchen_area'].fillna(10)\n",
    "    if total_area < 69:\n",
    "        flat['kitchen_area'] = flat['kitchen_area'].fillna(12)\n",
    "    if total_area < 900:\n",
    "        flat['kitchen_area'] = flat['kitchen_area'].fillna(40)"
   ]
  },
  {
   "cell_type": "code",
   "execution_count": 10,
   "metadata": {},
   "outputs": [],
   "source": [
    "#заменим пропущенные значения в столбце 'balcony' на 0\n",
    "flat['balcony'] = flat['balcony'].fillna(0)"
   ]
  },
  {
   "cell_type": "code",
   "execution_count": 11,
   "metadata": {},
   "outputs": [],
   "source": [
    "#заполним пропущенные значения в столбце с жилой площадью на разницу общей площади квартиры и кухни\n",
    "flat['living_area'] = flat['living_area'].fillna(flat['total_area'] - flat['kitchen_area'] - flat['balcony']*3)"
   ]
  },
  {
   "cell_type": "code",
   "execution_count": 12,
   "metadata": {},
   "outputs": [
    {
     "data": {
      "text/plain": [
       "array([nan, False, True], dtype=object)"
      ]
     },
     "execution_count": 12,
     "metadata": {},
     "output_type": "execute_result"
    }
   ],
   "source": [
    "#проверим уникальные значения в столбце 'is_apartment'\n",
    "flat['is_apartment'].unique()"
   ]
  },
  {
   "cell_type": "code",
   "execution_count": 13,
   "metadata": {},
   "outputs": [],
   "source": [
    "#заменим пропущенные значения на False\n",
    "flat['is_apartment'] = flat['is_apartment'].fillna(False)"
   ]
  },
  {
   "cell_type": "code",
   "execution_count": 14,
   "metadata": {},
   "outputs": [],
   "source": [
    "#удалим все строки с пропущенными значениями в столбце с населенным пунктом\n",
    "flat.dropna(subset=['locality_name'], inplace=True)"
   ]
  },
  {
   "cell_type": "code",
   "execution_count": 15,
   "metadata": {},
   "outputs": [],
   "source": [
    "#в столбце с количеством парков поблизости заменим пропущенные значения на ноль\n",
    "flat['parks_around3000'] = flat['parks_around3000'].fillna(0)"
   ]
  },
  {
   "cell_type": "code",
   "execution_count": 16,
   "metadata": {},
   "outputs": [],
   "source": [
    "#заменим на ноль расстояние до парка, если в столбце с количеством парков их нет\n",
    "for parks_around3000 in range(len(flat)):\n",
    "    if parks_around3000 == 0:\n",
    "        flat['parks_nearest'] = flat['parks_nearest'].fillna(0)      "
   ]
  },
  {
   "cell_type": "code",
   "execution_count": 17,
   "metadata": {},
   "outputs": [],
   "source": [
    "#заменим на ноль пропущенные значения в столбце с водоемами\n",
    "flat['ponds_around3000'] = flat['ponds_around3000'].fillna(0)"
   ]
  },
  {
   "cell_type": "code",
   "execution_count": 18,
   "metadata": {},
   "outputs": [],
   "source": [
    "#если в данных количество водоемов ноль, то в столбце с расстоянием до них поставим 0\n",
    "for ponds_around3000 in range(len(flat)):\n",
    "    if ponds_around3000 == 0:\n",
    "        flat['ponds_nearest'] = flat['ponds_nearest'].fillna(0)"
   ]
  },
  {
   "cell_type": "code",
   "execution_count": 19,
   "metadata": {},
   "outputs": [],
   "source": [
    "#заменим пропущенные значения в столбце с количеством дней размещения объявления на 1\n",
    "flat['days_exposition'] = flat['days_exposition'].fillna(1)"
   ]
  },
  {
   "cell_type": "code",
   "execution_count": 20,
   "metadata": {},
   "outputs": [],
   "source": [
    "#заменим пропущенные значения в столбце с расстоянием до центра на 0\n",
    "flat['cityCenters_nearest'] = flat['cityCenters_nearest'].fillna(0)"
   ]
  },
  {
   "cell_type": "code",
   "execution_count": 21,
   "metadata": {},
   "outputs": [],
   "source": [
    "#заменим пропущенные значения в столбце с расстоянием до аропорта на 0\n",
    "flat['airports_nearest'] = flat['airports_nearest'].fillna(0)"
   ]
  },
  {
   "cell_type": "code",
   "execution_count": 22,
   "metadata": {},
   "outputs": [
    {
     "data": {
      "text/plain": [
       "0"
      ]
     },
     "execution_count": 22,
     "metadata": {},
     "output_type": "execute_result"
    }
   ],
   "source": [
    "#проверим наличие дубликатов\n",
    "flat.duplicated().sum()"
   ]
  },
  {
   "cell_type": "code",
   "execution_count": 23,
   "metadata": {},
   "outputs": [
    {
     "data": {
      "text/plain": [
       "total_images            0\n",
       "last_price              0\n",
       "total_area              0\n",
       "first_day_exposition    0\n",
       "rooms                   0\n",
       "ceiling_height          0\n",
       "floors_total            0\n",
       "living_area             0\n",
       "floor                   0\n",
       "is_apartment            0\n",
       "studio                  0\n",
       "open_plan               0\n",
       "kitchen_area            0\n",
       "balcony                 0\n",
       "locality_name           0\n",
       "airports_nearest        0\n",
       "cityCenters_nearest     0\n",
       "parks_around3000        0\n",
       "parks_nearest           0\n",
       "ponds_around3000        0\n",
       "ponds_nearest           0\n",
       "days_exposition         0\n",
       "dtype: int64"
      ]
     },
     "execution_count": 23,
     "metadata": {},
     "output_type": "execute_result"
    }
   ],
   "source": [
    "#проверим пропущенные значения\n",
    "flat.isnull().sum()"
   ]
  },
  {
   "cell_type": "code",
   "execution_count": 24,
   "metadata": {},
   "outputs": [],
   "source": [
    "#изменим тип данных float на тип int\n",
    "flat['last_price'] = flat['last_price'].astype('int')\n",
    "flat['total_area'] = flat['total_area'].astype('int')\n",
    "flat['ceiling_height'] = flat['ceiling_height'].astype('int')\n",
    "flat['floors_total'] = flat['floors_total'].astype('int')\n",
    "flat['living_area'] = flat['living_area'].astype('int')\n",
    "flat['kitchen_area'] = flat['kitchen_area'].astype('int')\n",
    "flat['balcony'] = flat['balcony'].astype('int')\n",
    "flat['airports_nearest'] = flat['airports_nearest'].astype('int')\n",
    "#flat['cityCenters_nearest'] = flat['cityCenters_nearest'].astype('int')\n",
    "flat['parks_around3000'] = flat['parks_around3000'].astype('int')\n",
    "flat['parks_nearest'] = flat['parks_nearest'].astype('int')\n",
    "flat['ponds_around3000'] = flat['ponds_around3000'].astype('int')\n",
    "flat['ponds_nearest'] = flat['ponds_nearest'].astype('int')\n",
    "flat['days_exposition'] = flat['days_exposition'].astype('int')\n"
   ]
  },
  {
   "cell_type": "code",
   "execution_count": 25,
   "metadata": {},
   "outputs": [
    {
     "name": "stdout",
     "output_type": "stream",
     "text": [
      "<class 'pandas.core.frame.DataFrame'>\n",
      "Int64Index: 23650 entries, 0 to 23698\n",
      "Data columns (total 22 columns):\n",
      "total_images            23650 non-null int64\n",
      "last_price              23650 non-null int32\n",
      "total_area              23650 non-null int32\n",
      "first_day_exposition    23650 non-null object\n",
      "rooms                   23650 non-null int64\n",
      "ceiling_height          23650 non-null int32\n",
      "floors_total            23650 non-null int32\n",
      "living_area             23650 non-null int32\n",
      "floor                   23650 non-null int64\n",
      "is_apartment            23650 non-null bool\n",
      "studio                  23650 non-null bool\n",
      "open_plan               23650 non-null bool\n",
      "kitchen_area            23650 non-null int32\n",
      "balcony                 23650 non-null int32\n",
      "locality_name           23650 non-null object\n",
      "airports_nearest        23650 non-null int32\n",
      "cityCenters_nearest     23650 non-null float64\n",
      "parks_around3000        23650 non-null int32\n",
      "parks_nearest           23650 non-null int32\n",
      "ponds_around3000        23650 non-null int32\n",
      "ponds_nearest           23650 non-null int32\n",
      "days_exposition         23650 non-null int32\n",
      "dtypes: bool(3), float64(1), int32(13), int64(3), object(2)\n",
      "memory usage: 2.5+ MB\n"
     ]
    }
   ],
   "source": [
    "flat.info()"
   ]
  },
  {
   "cell_type": "markdown",
   "metadata": {},
   "source": [
    "### Вывод\n",
    "На данном этапе мы проверили и заполнили пропущенные значения в столбцах.\n",
    "* В столбце с высотой потолков заполнили пропуски на медиану, чтобы не учитывать редкие значения. Вероятно, пропущенные значения там появились, так как данные о высоте потолков были изначально не указаны в объявлении.\n",
    "* В столбце с количеством этажей в доме, предположили, что этаж конктретной квартиры соответствует последнему этажу, или он там единственный, скорее всего данные так же были не указаны в объявлении.\n",
    "* Заполнили пропущенные значения в столбце с площадью кухни в соответствии с общей площадью квартиры. Для этого мы разбили данные об общей площади на квартили и применили для заполнения данных о площади кухни.\n",
    "* В столбце с количеством балконов заменили значения на 0, вероятно, в объявлении не было указано количество балконов, так как их по факту и нет в квартире.\n",
    "* Общую жилую площадь мы рассчитали по разнице общей площади, площади кухни и количества балконов, умноженного на 3, так как приняли площадь балкона за 3 метра.\n",
    "* В столбце со значениями нежилых помещений, которые переделали в жилые, заполним пропущенные значения на False, так как в объявлении скорее всего, для квартир из нежилых помещений, был указан факт изменений, соответственно все остальные квартиры изначально были жилыми помещениями.\n",
    "* Удалим строки в столбце с названием населенного пункта, где есть хоть одно пропущенное значение, так как их всего 49, они не сильно повлияют на общие данные.\n",
    "* В столбцах с количеством парков и водоемов поблизости, заменили пропущенные значения на 0, так как их вероятно вблизи и нет.\n",
    "Таким образом и заполнили значения на 0 в столбцах с расстоянием до них.\n",
    "* В столбце с количеством дней размещения заменили проуски на 1, так как возможно объявление не прошло модерацию или было удалено сразу после публикации.\n",
    "* Пропуски в столбцах с расстоянием до аэропорта и центра заполнили 0, возможно эта информация не была просто указана в объявлениях или расстояние до них слишком большое и не оценивалось.\n",
    "* Дубликатов не было выявлено в данных. Тип данных float в каждом столбце мы заменили на int, чтобы все значения были целыми числами, для удобства дальнейшей работы с данными."
   ]
  },
  {
   "cell_type": "markdown",
   "metadata": {},
   "source": [
    "### Шаг 3. Посчитаем и добавим в таблицу"
   ]
  },
  {
   "cell_type": "code",
   "execution_count": 26,
   "metadata": {},
   "outputs": [
    {
     "data": {
      "text/html": [
       "<div>\n",
       "<style scoped>\n",
       "    .dataframe tbody tr th:only-of-type {\n",
       "        vertical-align: middle;\n",
       "    }\n",
       "\n",
       "    .dataframe tbody tr th {\n",
       "        vertical-align: top;\n",
       "    }\n",
       "\n",
       "    .dataframe thead th {\n",
       "        text-align: right;\n",
       "    }\n",
       "</style>\n",
       "<table border=\"1\" class=\"dataframe\">\n",
       "  <thead>\n",
       "    <tr style=\"text-align: right;\">\n",
       "      <th></th>\n",
       "      <th>total_images</th>\n",
       "      <th>last_price</th>\n",
       "      <th>total_area</th>\n",
       "      <th>first_day_exposition</th>\n",
       "      <th>rooms</th>\n",
       "      <th>ceiling_height</th>\n",
       "      <th>floors_total</th>\n",
       "      <th>living_area</th>\n",
       "      <th>floor</th>\n",
       "      <th>is_apartment</th>\n",
       "      <th>...</th>\n",
       "      <th>balcony</th>\n",
       "      <th>locality_name</th>\n",
       "      <th>airports_nearest</th>\n",
       "      <th>cityCenters_nearest</th>\n",
       "      <th>parks_around3000</th>\n",
       "      <th>parks_nearest</th>\n",
       "      <th>ponds_around3000</th>\n",
       "      <th>ponds_nearest</th>\n",
       "      <th>days_exposition</th>\n",
       "      <th>price_for_m</th>\n",
       "    </tr>\n",
       "  </thead>\n",
       "  <tbody>\n",
       "    <tr>\n",
       "      <td>0</td>\n",
       "      <td>20</td>\n",
       "      <td>13000000</td>\n",
       "      <td>108</td>\n",
       "      <td>2019-03-07T00:00:00</td>\n",
       "      <td>3</td>\n",
       "      <td>2</td>\n",
       "      <td>16</td>\n",
       "      <td>51</td>\n",
       "      <td>8</td>\n",
       "      <td>False</td>\n",
       "      <td>...</td>\n",
       "      <td>0</td>\n",
       "      <td>Санкт-Петербург</td>\n",
       "      <td>18863</td>\n",
       "      <td>16028.0</td>\n",
       "      <td>1</td>\n",
       "      <td>482</td>\n",
       "      <td>2</td>\n",
       "      <td>755</td>\n",
       "      <td>1</td>\n",
       "      <td>120370</td>\n",
       "    </tr>\n",
       "    <tr>\n",
       "      <td>1</td>\n",
       "      <td>7</td>\n",
       "      <td>3350000</td>\n",
       "      <td>40</td>\n",
       "      <td>2018-12-04T00:00:00</td>\n",
       "      <td>1</td>\n",
       "      <td>2</td>\n",
       "      <td>11</td>\n",
       "      <td>18</td>\n",
       "      <td>1</td>\n",
       "      <td>False</td>\n",
       "      <td>...</td>\n",
       "      <td>2</td>\n",
       "      <td>посёлок Шушары</td>\n",
       "      <td>12817</td>\n",
       "      <td>18603.0</td>\n",
       "      <td>0</td>\n",
       "      <td>0</td>\n",
       "      <td>0</td>\n",
       "      <td>0</td>\n",
       "      <td>81</td>\n",
       "      <td>83750</td>\n",
       "    </tr>\n",
       "    <tr>\n",
       "      <td>2</td>\n",
       "      <td>10</td>\n",
       "      <td>5196000</td>\n",
       "      <td>56</td>\n",
       "      <td>2015-08-20T00:00:00</td>\n",
       "      <td>2</td>\n",
       "      <td>2</td>\n",
       "      <td>5</td>\n",
       "      <td>34</td>\n",
       "      <td>4</td>\n",
       "      <td>False</td>\n",
       "      <td>...</td>\n",
       "      <td>0</td>\n",
       "      <td>Санкт-Петербург</td>\n",
       "      <td>21741</td>\n",
       "      <td>13933.0</td>\n",
       "      <td>1</td>\n",
       "      <td>90</td>\n",
       "      <td>2</td>\n",
       "      <td>574</td>\n",
       "      <td>558</td>\n",
       "      <td>92785</td>\n",
       "    </tr>\n",
       "    <tr>\n",
       "      <td>3</td>\n",
       "      <td>0</td>\n",
       "      <td>64900000</td>\n",
       "      <td>159</td>\n",
       "      <td>2015-07-24T00:00:00</td>\n",
       "      <td>3</td>\n",
       "      <td>2</td>\n",
       "      <td>14</td>\n",
       "      <td>154</td>\n",
       "      <td>9</td>\n",
       "      <td>False</td>\n",
       "      <td>...</td>\n",
       "      <td>0</td>\n",
       "      <td>Санкт-Петербург</td>\n",
       "      <td>28098</td>\n",
       "      <td>6800.0</td>\n",
       "      <td>2</td>\n",
       "      <td>84</td>\n",
       "      <td>3</td>\n",
       "      <td>234</td>\n",
       "      <td>424</td>\n",
       "      <td>408176</td>\n",
       "    </tr>\n",
       "    <tr>\n",
       "      <td>4</td>\n",
       "      <td>2</td>\n",
       "      <td>10000000</td>\n",
       "      <td>100</td>\n",
       "      <td>2018-06-19T00:00:00</td>\n",
       "      <td>2</td>\n",
       "      <td>3</td>\n",
       "      <td>14</td>\n",
       "      <td>32</td>\n",
       "      <td>13</td>\n",
       "      <td>False</td>\n",
       "      <td>...</td>\n",
       "      <td>0</td>\n",
       "      <td>Санкт-Петербург</td>\n",
       "      <td>31856</td>\n",
       "      <td>8098.0</td>\n",
       "      <td>2</td>\n",
       "      <td>112</td>\n",
       "      <td>1</td>\n",
       "      <td>48</td>\n",
       "      <td>121</td>\n",
       "      <td>100000</td>\n",
       "    </tr>\n",
       "  </tbody>\n",
       "</table>\n",
       "<p>5 rows × 23 columns</p>\n",
       "</div>"
      ],
      "text/plain": [
       "   total_images  last_price  total_area first_day_exposition  rooms  \\\n",
       "0            20    13000000         108  2019-03-07T00:00:00      3   \n",
       "1             7     3350000          40  2018-12-04T00:00:00      1   \n",
       "2            10     5196000          56  2015-08-20T00:00:00      2   \n",
       "3             0    64900000         159  2015-07-24T00:00:00      3   \n",
       "4             2    10000000         100  2018-06-19T00:00:00      2   \n",
       "\n",
       "   ceiling_height  floors_total  living_area  floor  is_apartment  ...  \\\n",
       "0               2            16           51      8         False  ...   \n",
       "1               2            11           18      1         False  ...   \n",
       "2               2             5           34      4         False  ...   \n",
       "3               2            14          154      9         False  ...   \n",
       "4               3            14           32     13         False  ...   \n",
       "\n",
       "   balcony    locality_name  airports_nearest  cityCenters_nearest  \\\n",
       "0        0  Санкт-Петербург             18863              16028.0   \n",
       "1        2   посёлок Шушары             12817              18603.0   \n",
       "2        0  Санкт-Петербург             21741              13933.0   \n",
       "3        0  Санкт-Петербург             28098               6800.0   \n",
       "4        0  Санкт-Петербург             31856               8098.0   \n",
       "\n",
       "  parks_around3000  parks_nearest  ponds_around3000  ponds_nearest  \\\n",
       "0                1            482                 2            755   \n",
       "1                0              0                 0              0   \n",
       "2                1             90                 2            574   \n",
       "3                2             84                 3            234   \n",
       "4                2            112                 1             48   \n",
       "\n",
       "   days_exposition  price_for_m  \n",
       "0                1       120370  \n",
       "1               81        83750  \n",
       "2              558        92785  \n",
       "3              424       408176  \n",
       "4              121       100000  \n",
       "\n",
       "[5 rows x 23 columns]"
      ]
     },
     "execution_count": 26,
     "metadata": {},
     "output_type": "execute_result"
    }
   ],
   "source": [
    "#добавим столбец, в котором подсчитаем цену квартиры за метр \n",
    "flat['price_for_m'] = flat['last_price'] / flat['total_area']\n",
    "flat['price_for_m'] = flat['price_for_m'].astype('int')\n",
    "flat.head()"
   ]
  },
  {
   "cell_type": "code",
   "execution_count": 27,
   "metadata": {},
   "outputs": [
    {
     "data": {
      "text/html": [
       "<div>\n",
       "<style scoped>\n",
       "    .dataframe tbody tr th:only-of-type {\n",
       "        vertical-align: middle;\n",
       "    }\n",
       "\n",
       "    .dataframe tbody tr th {\n",
       "        vertical-align: top;\n",
       "    }\n",
       "\n",
       "    .dataframe thead th {\n",
       "        text-align: right;\n",
       "    }\n",
       "</style>\n",
       "<table border=\"1\" class=\"dataframe\">\n",
       "  <thead>\n",
       "    <tr style=\"text-align: right;\">\n",
       "      <th></th>\n",
       "      <th>total_images</th>\n",
       "      <th>last_price</th>\n",
       "      <th>total_area</th>\n",
       "      <th>first_day_exposition</th>\n",
       "      <th>rooms</th>\n",
       "      <th>ceiling_height</th>\n",
       "      <th>floors_total</th>\n",
       "      <th>living_area</th>\n",
       "      <th>floor</th>\n",
       "      <th>is_apartment</th>\n",
       "      <th>...</th>\n",
       "      <th>balcony</th>\n",
       "      <th>locality_name</th>\n",
       "      <th>airports_nearest</th>\n",
       "      <th>cityCenters_nearest</th>\n",
       "      <th>parks_around3000</th>\n",
       "      <th>parks_nearest</th>\n",
       "      <th>ponds_around3000</th>\n",
       "      <th>ponds_nearest</th>\n",
       "      <th>days_exposition</th>\n",
       "      <th>price_for_m</th>\n",
       "    </tr>\n",
       "  </thead>\n",
       "  <tbody>\n",
       "    <tr>\n",
       "      <td>0</td>\n",
       "      <td>20</td>\n",
       "      <td>13000000</td>\n",
       "      <td>108</td>\n",
       "      <td>2019</td>\n",
       "      <td>3</td>\n",
       "      <td>2</td>\n",
       "      <td>16</td>\n",
       "      <td>51</td>\n",
       "      <td>8</td>\n",
       "      <td>False</td>\n",
       "      <td>...</td>\n",
       "      <td>0</td>\n",
       "      <td>Санкт-Петербург</td>\n",
       "      <td>18863</td>\n",
       "      <td>16028.0</td>\n",
       "      <td>1</td>\n",
       "      <td>482</td>\n",
       "      <td>2</td>\n",
       "      <td>755</td>\n",
       "      <td>1</td>\n",
       "      <td>120370</td>\n",
       "    </tr>\n",
       "    <tr>\n",
       "      <td>1</td>\n",
       "      <td>7</td>\n",
       "      <td>3350000</td>\n",
       "      <td>40</td>\n",
       "      <td>2018</td>\n",
       "      <td>1</td>\n",
       "      <td>2</td>\n",
       "      <td>11</td>\n",
       "      <td>18</td>\n",
       "      <td>1</td>\n",
       "      <td>False</td>\n",
       "      <td>...</td>\n",
       "      <td>2</td>\n",
       "      <td>посёлок Шушары</td>\n",
       "      <td>12817</td>\n",
       "      <td>18603.0</td>\n",
       "      <td>0</td>\n",
       "      <td>0</td>\n",
       "      <td>0</td>\n",
       "      <td>0</td>\n",
       "      <td>81</td>\n",
       "      <td>83750</td>\n",
       "    </tr>\n",
       "    <tr>\n",
       "      <td>2</td>\n",
       "      <td>10</td>\n",
       "      <td>5196000</td>\n",
       "      <td>56</td>\n",
       "      <td>2015</td>\n",
       "      <td>2</td>\n",
       "      <td>2</td>\n",
       "      <td>5</td>\n",
       "      <td>34</td>\n",
       "      <td>4</td>\n",
       "      <td>False</td>\n",
       "      <td>...</td>\n",
       "      <td>0</td>\n",
       "      <td>Санкт-Петербург</td>\n",
       "      <td>21741</td>\n",
       "      <td>13933.0</td>\n",
       "      <td>1</td>\n",
       "      <td>90</td>\n",
       "      <td>2</td>\n",
       "      <td>574</td>\n",
       "      <td>558</td>\n",
       "      <td>92785</td>\n",
       "    </tr>\n",
       "    <tr>\n",
       "      <td>3</td>\n",
       "      <td>0</td>\n",
       "      <td>64900000</td>\n",
       "      <td>159</td>\n",
       "      <td>2015</td>\n",
       "      <td>3</td>\n",
       "      <td>2</td>\n",
       "      <td>14</td>\n",
       "      <td>154</td>\n",
       "      <td>9</td>\n",
       "      <td>False</td>\n",
       "      <td>...</td>\n",
       "      <td>0</td>\n",
       "      <td>Санкт-Петербург</td>\n",
       "      <td>28098</td>\n",
       "      <td>6800.0</td>\n",
       "      <td>2</td>\n",
       "      <td>84</td>\n",
       "      <td>3</td>\n",
       "      <td>234</td>\n",
       "      <td>424</td>\n",
       "      <td>408176</td>\n",
       "    </tr>\n",
       "    <tr>\n",
       "      <td>4</td>\n",
       "      <td>2</td>\n",
       "      <td>10000000</td>\n",
       "      <td>100</td>\n",
       "      <td>2018</td>\n",
       "      <td>2</td>\n",
       "      <td>3</td>\n",
       "      <td>14</td>\n",
       "      <td>32</td>\n",
       "      <td>13</td>\n",
       "      <td>False</td>\n",
       "      <td>...</td>\n",
       "      <td>0</td>\n",
       "      <td>Санкт-Петербург</td>\n",
       "      <td>31856</td>\n",
       "      <td>8098.0</td>\n",
       "      <td>2</td>\n",
       "      <td>112</td>\n",
       "      <td>1</td>\n",
       "      <td>48</td>\n",
       "      <td>121</td>\n",
       "      <td>100000</td>\n",
       "    </tr>\n",
       "  </tbody>\n",
       "</table>\n",
       "<p>5 rows × 23 columns</p>\n",
       "</div>"
      ],
      "text/plain": [
       "   total_images  last_price  total_area  first_day_exposition  rooms  \\\n",
       "0            20    13000000         108                  2019      3   \n",
       "1             7     3350000          40                  2018      1   \n",
       "2            10     5196000          56                  2015      2   \n",
       "3             0    64900000         159                  2015      3   \n",
       "4             2    10000000         100                  2018      2   \n",
       "\n",
       "   ceiling_height  floors_total  living_area  floor  is_apartment  ...  \\\n",
       "0               2            16           51      8         False  ...   \n",
       "1               2            11           18      1         False  ...   \n",
       "2               2             5           34      4         False  ...   \n",
       "3               2            14          154      9         False  ...   \n",
       "4               3            14           32     13         False  ...   \n",
       "\n",
       "   balcony    locality_name  airports_nearest  cityCenters_nearest  \\\n",
       "0        0  Санкт-Петербург             18863              16028.0   \n",
       "1        2   посёлок Шушары             12817              18603.0   \n",
       "2        0  Санкт-Петербург             21741              13933.0   \n",
       "3        0  Санкт-Петербург             28098               6800.0   \n",
       "4        0  Санкт-Петербург             31856               8098.0   \n",
       "\n",
       "  parks_around3000  parks_nearest  ponds_around3000  ponds_nearest  \\\n",
       "0                1            482                 2            755   \n",
       "1                0              0                 0              0   \n",
       "2                1             90                 2            574   \n",
       "3                2             84                 3            234   \n",
       "4                2            112                 1             48   \n",
       "\n",
       "   days_exposition  price_for_m  \n",
       "0                1       120370  \n",
       "1               81        83750  \n",
       "2              558        92785  \n",
       "3              424       408176  \n",
       "4              121       100000  \n",
       "\n",
       "[5 rows x 23 columns]"
      ]
     },
     "execution_count": 27,
     "metadata": {},
     "output_type": "execute_result"
    }
   ],
   "source": [
    "#приведем данные о времени размещения в корректный вид\n",
    "flat['first_day_exposition'] = pd.DatetimeIndex(flat['first_day_exposition']).year\n",
    "flat.head()"
   ]
  },
  {
   "cell_type": "code",
   "execution_count": 28,
   "metadata": {},
   "outputs": [
    {
     "data": {
      "text/plain": [
       "другой       17326\n",
       "последний     3412\n",
       "первый        2912\n",
       "Name: floor_group, dtype: int64"
      ]
     },
     "execution_count": 28,
     "metadata": {},
     "output_type": "execute_result"
    }
   ],
   "source": [
    "#сгруппируем данные по трем категориям, в зависимости от этажа\n",
    "def floor_group(row):\n",
    "    floor = row['floor']\n",
    "    floors_total = row['floors_total']\n",
    "    if floor == 1:\n",
    "        return 'первый'\n",
    "    if floor == floors_total:\n",
    "        return 'последний'\n",
    "    else:\n",
    "        return 'другой'\n",
    "\n",
    "flat['floor_group'] = flat.apply(floor_group, axis=1)\n",
    "flat['floor_group'].value_counts()\n"
   ]
  },
  {
   "cell_type": "code",
   "execution_count": 29,
   "metadata": {},
   "outputs": [
    {
     "data": {
      "text/html": [
       "<div>\n",
       "<style scoped>\n",
       "    .dataframe tbody tr th:only-of-type {\n",
       "        vertical-align: middle;\n",
       "    }\n",
       "\n",
       "    .dataframe tbody tr th {\n",
       "        vertical-align: top;\n",
       "    }\n",
       "\n",
       "    .dataframe thead th {\n",
       "        text-align: right;\n",
       "    }\n",
       "</style>\n",
       "<table border=\"1\" class=\"dataframe\">\n",
       "  <thead>\n",
       "    <tr style=\"text-align: right;\">\n",
       "      <th></th>\n",
       "      <th>total_images</th>\n",
       "      <th>last_price</th>\n",
       "      <th>total_area</th>\n",
       "      <th>first_day_exposition</th>\n",
       "      <th>rooms</th>\n",
       "      <th>ceiling_height</th>\n",
       "      <th>floors_total</th>\n",
       "      <th>living_area</th>\n",
       "      <th>floor</th>\n",
       "      <th>is_apartment</th>\n",
       "      <th>...</th>\n",
       "      <th>cityCenters_nearest</th>\n",
       "      <th>parks_around3000</th>\n",
       "      <th>parks_nearest</th>\n",
       "      <th>ponds_around3000</th>\n",
       "      <th>ponds_nearest</th>\n",
       "      <th>days_exposition</th>\n",
       "      <th>price_for_m</th>\n",
       "      <th>floor_group</th>\n",
       "      <th>living_total</th>\n",
       "      <th>kitchen_total</th>\n",
       "    </tr>\n",
       "  </thead>\n",
       "  <tbody>\n",
       "    <tr>\n",
       "      <td>0</td>\n",
       "      <td>20</td>\n",
       "      <td>13000000</td>\n",
       "      <td>108</td>\n",
       "      <td>2019</td>\n",
       "      <td>3</td>\n",
       "      <td>2</td>\n",
       "      <td>16</td>\n",
       "      <td>51</td>\n",
       "      <td>8</td>\n",
       "      <td>False</td>\n",
       "      <td>...</td>\n",
       "      <td>16028.0</td>\n",
       "      <td>1</td>\n",
       "      <td>482</td>\n",
       "      <td>2</td>\n",
       "      <td>755</td>\n",
       "      <td>1</td>\n",
       "      <td>120370</td>\n",
       "      <td>другой</td>\n",
       "      <td>0.472222</td>\n",
       "      <td>0.231481</td>\n",
       "    </tr>\n",
       "    <tr>\n",
       "      <td>1</td>\n",
       "      <td>7</td>\n",
       "      <td>3350000</td>\n",
       "      <td>40</td>\n",
       "      <td>2018</td>\n",
       "      <td>1</td>\n",
       "      <td>2</td>\n",
       "      <td>11</td>\n",
       "      <td>18</td>\n",
       "      <td>1</td>\n",
       "      <td>False</td>\n",
       "      <td>...</td>\n",
       "      <td>18603.0</td>\n",
       "      <td>0</td>\n",
       "      <td>0</td>\n",
       "      <td>0</td>\n",
       "      <td>0</td>\n",
       "      <td>81</td>\n",
       "      <td>83750</td>\n",
       "      <td>первый</td>\n",
       "      <td>0.450000</td>\n",
       "      <td>0.275000</td>\n",
       "    </tr>\n",
       "    <tr>\n",
       "      <td>2</td>\n",
       "      <td>10</td>\n",
       "      <td>5196000</td>\n",
       "      <td>56</td>\n",
       "      <td>2015</td>\n",
       "      <td>2</td>\n",
       "      <td>2</td>\n",
       "      <td>5</td>\n",
       "      <td>34</td>\n",
       "      <td>4</td>\n",
       "      <td>False</td>\n",
       "      <td>...</td>\n",
       "      <td>13933.0</td>\n",
       "      <td>1</td>\n",
       "      <td>90</td>\n",
       "      <td>2</td>\n",
       "      <td>574</td>\n",
       "      <td>558</td>\n",
       "      <td>92785</td>\n",
       "      <td>другой</td>\n",
       "      <td>0.607143</td>\n",
       "      <td>0.142857</td>\n",
       "    </tr>\n",
       "    <tr>\n",
       "      <td>3</td>\n",
       "      <td>0</td>\n",
       "      <td>64900000</td>\n",
       "      <td>159</td>\n",
       "      <td>2015</td>\n",
       "      <td>3</td>\n",
       "      <td>2</td>\n",
       "      <td>14</td>\n",
       "      <td>154</td>\n",
       "      <td>9</td>\n",
       "      <td>False</td>\n",
       "      <td>...</td>\n",
       "      <td>6800.0</td>\n",
       "      <td>2</td>\n",
       "      <td>84</td>\n",
       "      <td>3</td>\n",
       "      <td>234</td>\n",
       "      <td>424</td>\n",
       "      <td>408176</td>\n",
       "      <td>другой</td>\n",
       "      <td>0.968553</td>\n",
       "      <td>0.031447</td>\n",
       "    </tr>\n",
       "    <tr>\n",
       "      <td>4</td>\n",
       "      <td>2</td>\n",
       "      <td>10000000</td>\n",
       "      <td>100</td>\n",
       "      <td>2018</td>\n",
       "      <td>2</td>\n",
       "      <td>3</td>\n",
       "      <td>14</td>\n",
       "      <td>32</td>\n",
       "      <td>13</td>\n",
       "      <td>False</td>\n",
       "      <td>...</td>\n",
       "      <td>8098.0</td>\n",
       "      <td>2</td>\n",
       "      <td>112</td>\n",
       "      <td>1</td>\n",
       "      <td>48</td>\n",
       "      <td>121</td>\n",
       "      <td>100000</td>\n",
       "      <td>другой</td>\n",
       "      <td>0.320000</td>\n",
       "      <td>0.410000</td>\n",
       "    </tr>\n",
       "  </tbody>\n",
       "</table>\n",
       "<p>5 rows × 26 columns</p>\n",
       "</div>"
      ],
      "text/plain": [
       "   total_images  last_price  total_area  first_day_exposition  rooms  \\\n",
       "0            20    13000000         108                  2019      3   \n",
       "1             7     3350000          40                  2018      1   \n",
       "2            10     5196000          56                  2015      2   \n",
       "3             0    64900000         159                  2015      3   \n",
       "4             2    10000000         100                  2018      2   \n",
       "\n",
       "   ceiling_height  floors_total  living_area  floor  is_apartment  ...  \\\n",
       "0               2            16           51      8         False  ...   \n",
       "1               2            11           18      1         False  ...   \n",
       "2               2             5           34      4         False  ...   \n",
       "3               2            14          154      9         False  ...   \n",
       "4               3            14           32     13         False  ...   \n",
       "\n",
       "   cityCenters_nearest  parks_around3000  parks_nearest  ponds_around3000  \\\n",
       "0              16028.0                 1            482                 2   \n",
       "1              18603.0                 0              0                 0   \n",
       "2              13933.0                 1             90                 2   \n",
       "3               6800.0                 2             84                 3   \n",
       "4               8098.0                 2            112                 1   \n",
       "\n",
       "  ponds_nearest  days_exposition  price_for_m  floor_group  living_total  \\\n",
       "0           755                1       120370       другой      0.472222   \n",
       "1             0               81        83750       первый      0.450000   \n",
       "2           574              558        92785       другой      0.607143   \n",
       "3           234              424       408176       другой      0.968553   \n",
       "4            48              121       100000       другой      0.320000   \n",
       "\n",
       "   kitchen_total  \n",
       "0       0.231481  \n",
       "1       0.275000  \n",
       "2       0.142857  \n",
       "3       0.031447  \n",
       "4       0.410000  \n",
       "\n",
       "[5 rows x 26 columns]"
      ]
     },
     "execution_count": 29,
     "metadata": {},
     "output_type": "execute_result"
    }
   ],
   "source": [
    "#выведем и добавим в таблицу соотношения жилой площади к общей, и площади кухни к общей площади\n",
    "flat['living_total'] = flat['living_area'] / flat['total_area']\n",
    "flat['kitchen_total'] = flat['kitchen_area'] / flat['total_area']\n",
    "flat.head()"
   ]
  },
  {
   "cell_type": "code",
   "execution_count": 30,
   "metadata": {},
   "outputs": [],
   "source": [
    "#импортируем библиотеку для построения графиков\n",
    "import matplotlib.pyplot as plt"
   ]
  },
  {
   "cell_type": "code",
   "execution_count": 31,
   "metadata": {},
   "outputs": [
    {
     "data": {
      "text/plain": [
       "Text(0, 0.5, 'Количество')"
      ]
     },
     "execution_count": 31,
     "metadata": {},
     "output_type": "execute_result"
    },
    {
     "data": {
      "image/png": "[encoded data removed]",
      "text/plain": [
       "<Figure size 432x288 with 1 Axes>"
      ]
     },
     "metadata": {
      "needs_background": "light"
     },
     "output_type": "display_data"
    }
   ],
   "source": [
    "#построим гистограмму по общей площади\n",
    "flat['total_area'].hist(bins=30, range=(0, 200))\n",
    "plt.xlabel(\"Общая площадь, м2\")\n",
    "plt.ylabel(\"Количество\")"
   ]
  },
  {
   "cell_type": "code",
   "execution_count": 32,
   "metadata": {},
   "outputs": [
    {
     "data": {
      "text/plain": [
       "Text(0, 0.5, 'Количество')"
      ]
     },
     "execution_count": 32,
     "metadata": {},
     "output_type": "execute_result"
    },
    {
     "data": {
      "image/png": "[encoded data removed]",
      "text/plain": [
       "<Figure size 432x288 with 1 Axes>"
      ]
     },
     "metadata": {
      "needs_background": "light"
     },
     "output_type": "display_data"
    }
   ],
   "source": [
    "#построим гистрограмму по ценам за квартиры\n",
    "flat['last_price'].hist(bins=20, range=(1000000, 20000000))\n",
    "plt.xlabel(\"Цена\")\n",
    "plt.ylabel(\"Количество\")"
   ]
  },
  {
   "cell_type": "code",
   "execution_count": 33,
   "metadata": {},
   "outputs": [
    {
     "data": {
      "text/plain": [
       "Text(0, 0.5, 'Количество')"
      ]
     },
     "execution_count": 33,
     "metadata": {},
     "output_type": "execute_result"
    },
    {
     "data": {
      "image/png": "[encoded data removed]",
      "text/plain": [
       "<Figure size 432x288 with 1 Axes>"
      ]
     },
     "metadata": {
      "needs_background": "light"
     },
     "output_type": "display_data"
    }
   ],
   "source": [
    "#построим гистограмму по количеству комнат\n",
    "flat['rooms'].hist(bins=10, range=(0, 10))\n",
    "plt.xlabel(\"Количество комнат\")\n",
    "plt.ylabel(\"Количество\")"
   ]
  },
  {
   "cell_type": "code",
   "execution_count": 34,
   "metadata": {},
   "outputs": [
    {
     "data": {
      "text/plain": [
       "Text(0, 0.5, 'Количество')"
      ]
     },
     "execution_count": 34,
     "metadata": {},
     "output_type": "execute_result"
    },
    {
     "data": {
      "image/png": "[encoded data removed]",
      "text/plain": [
       "<Figure size 432x288 with 1 Axes>"
      ]
     },
     "metadata": {
      "needs_background": "light"
     },
     "output_type": "display_data"
    }
   ],
   "source": [
    "#построим гистограмму по высоте потолков\n",
    "flat['ceiling_height'].hist(range=(0, 10))\n",
    "plt.xlabel(\"Высота потолков, м2\")\n",
    "plt.ylabel(\"Количество\")"
   ]
  },
  {
   "cell_type": "markdown",
   "metadata": {},
   "source": [
    "### Вывод\n",
    "На данном этапе работы мы посчитали цену за метр каждой квартиры, добавили ее в таблицу и изменили тип данных на целочисленный.\n",
    "Отформатировали столбец со временем публикации, т.е. удалили данные о часах и минутах, так как они не несут смысловой нагрузки.\n",
    "Категоризировали данные с этажностью по трем категориям, это удобно, так как квартиры на первом этаже и на последнем скорее всего отличаются, и по цене, и по спросу на них.\n",
    "Вывели и добавили в таблицу данные о соотношении жилой площади к общей и площади кухни к общей площади.\n",
    "Построили и проанализирвали гистограммы для параметров: площадь, цена, количество комнат и высота потолков.\n",
    "+ На первой гистограмме мы видим, что больше всего в наших данных квартир с площадью 35-40 кв.м.-более 4000 тысяч.\n",
    "Так же много квартир с площадью от 25 до 70 кв. метров. В то же время квартир площадью 100 кв.м. и больше, гораздо меньше.\n",
    "+ На второй гистограмме мы видим, что больше всего квартир по цене от 2,5 до 5 млн.руб., чем дороже стоят квартиры, тем меньше их на рынке. Квартир за 1 млн.руб., так же много, как и квартир за 8 млн.руб., а именно порядка 1000 предложений по каждой категории цены.\n",
    "+ На гистограмме с количеством комнат мы видим, что больше всего 1-2-3-хкомнатных квартир, около 8 тыс. предложений по каждому типу. 4-хкомнатных квартир тоже не мало, около 6 тыс.предложений. А вот квартиры с 5-ю и более комнат встречаются редко, менее 500 предложений за 5 комнат.\n",
    "+ Четвертая гистограмма нам показывает, что почти все квартиры имеют стандартную высоту потолков-от 2 до 3 метров. Есть порядка 2500 квартир с высокими потолками от 3 до 4 метров."
   ]
  },
  {
   "cell_type": "markdown",
   "metadata": {},
   "source": [
    "### Шаг 4. Проведем исследовательский анализ данных"
   ]
  },
  {
   "cell_type": "code",
   "execution_count": 35,
   "metadata": {},
   "outputs": [
    {
     "data": {
      "text/plain": [
       "156.5834249471459"
      ]
     },
     "execution_count": 35,
     "metadata": {},
     "output_type": "execute_result"
    }
   ],
   "source": [
    "#подсчитаем среднее по столбцу с количеством дней размещения объявления\n",
    "flat['days_exposition'].mean()"
   ]
  },
  {
   "cell_type": "code",
   "execution_count": 36,
   "metadata": {},
   "outputs": [
    {
     "data": {
      "text/plain": [
       "73.0"
      ]
     },
     "execution_count": 36,
     "metadata": {},
     "output_type": "execute_result"
    }
   ],
   "source": [
    "#подсчитаем медиану\n",
    "flat['days_exposition'].median()"
   ]
  },
  {
   "cell_type": "code",
   "execution_count": 37,
   "metadata": {},
   "outputs": [
    {
     "data": {
      "text/plain": [
       "Text(0, 0.5, 'Количество')"
      ]
     },
     "execution_count": 37,
     "metadata": {},
     "output_type": "execute_result"
    },
    {
     "data": {
      "image/png": "[encoded data removed]",
      "text/plain": [
       "<Figure size 432x288 with 1 Axes>"
      ]
     },
     "metadata": {
      "needs_background": "light"
     },
     "output_type": "display_data"
    }
   ],
   "source": [
    "#построим гистограмму по количеству дней размещения\n",
    "flat['days_exposition'].hist(bins=100, range=(5,100))\n",
    "plt.xlabel(\"Количество дней размещения\")\n",
    "plt.ylabel(\"Количество\")"
   ]
  },
  {
   "cell_type": "code",
   "execution_count": 38,
   "metadata": {},
   "outputs": [
    {
     "data": {
      "text/plain": [
       "Text(0, 0.5, 'Общая площадь, м2')"
      ]
     },
     "execution_count": 38,
     "metadata": {},
     "output_type": "execute_result"
    },
    {
     "data": {
      "image/png": "[encoded data removed]",
      "text/plain": [
       "<Figure size 432x288 with 1 Axes>"
      ]
     },
     "metadata": {
      "needs_background": "light"
     },
     "output_type": "display_data"
    }
   ],
   "source": [
    "#создадим сводную таблицу по зависимости общей площади от цены за кв.м.\n",
    "flat_1 = flat.pivot_table(index='total_area', values='price_for_m')\n",
    "flat_1.hist()\n",
    "plt.xlabel(\"Стоимость за метр\")\n",
    "plt.ylabel(\"Общая площадь, м2\")"
   ]
  },
  {
   "cell_type": "code",
   "execution_count": 39,
   "metadata": {},
   "outputs": [
    {
     "data": {
      "text/plain": [
       "Text(0, 0.5, 'Количество комнат')"
      ]
     },
     "execution_count": 39,
     "metadata": {},
     "output_type": "execute_result"
    },
    {
     "data": {
      "image/png": "[encoded data removed]",
      "text/plain": [
       "<Figure size 432x288 with 1 Axes>"
      ]
     },
     "metadata": {
      "needs_background": "light"
     },
     "output_type": "display_data"
    }
   ],
   "source": [
    "#создадим сводную таблицу по зависимости цены за кв.м. от количества комнат\n",
    "flat_2 = flat.pivot_table(index='rooms', values='price_for_m')\n",
    "flat_2.hist()\n",
    "plt.xlabel(\"Стоимость за метр\")\n",
    "plt.ylabel(\"Количество комнат\")"
   ]
  },
  {
   "cell_type": "code",
   "execution_count": 40,
   "metadata": {},
   "outputs": [
    {
     "data": {
      "text/plain": [
       "Text(0, 0.5, 'Цена')"
      ]
     },
     "execution_count": 40,
     "metadata": {},
     "output_type": "execute_result"
    },
    {
     "data": {
      "image/png": "[encoded data removed]",
      "text/plain": [
       "<Figure size 432x288 with 1 Axes>"
      ]
     },
     "metadata": {
      "needs_background": "light"
     },
     "output_type": "display_data"
    }
   ],
   "source": [
    "#создадим сводную таблицу по зависимости цены за кв.м. от этажа\n",
    "flat_floors = flat.pivot_table(index='floor_group', values='last_price', aggfunc='median')\n",
    "flat_floors.plot(kind='bar')\n",
    "plt.xlabel(\"Тип этажа\")\n",
    "plt.ylabel(\"Цена\")"
   ]
  },
  {
   "cell_type": "markdown",
   "metadata": {},
   "source": [
    "#### Вывод\n",
    "Мы оценили зависимость цены от разных параметров. Например, чем больше площадь квартиры и количество комнат, тем дешевле ее метр, а так же выяснили, что самые недорогие квартиры на пером этаже. \n",
    "Так же мы оценили среднее количество дней размещения и медиану, медиана смещена, это может быть результатом редких значений, например, ошибка в данных с большим количеством дней размещения, а может быть единичные квартиры продавались больше года.\n",
    "На гистограмме по дням размещениям мы видим выбивающиеся значения на 45 и 60 днях, что может быть результатом работы системы, где размещены объявления, например, тарифы на размещение действуют 45 и 60 дней."
   ]
  },
  {
   "cell_type": "code",
   "execution_count": 41,
   "metadata": {},
   "outputs": [
    {
     "data": {
      "text/plain": [
       "(1000000, 20000000)"
      ]
     },
     "execution_count": 41,
     "metadata": {},
     "output_type": "execute_result"
    },
    {
     "data": {
      "image/png": "[encoded data removed]",
      "text/plain": [
       "<Figure size 432x288 with 1 Axes>"
      ]
     },
     "metadata": {
      "needs_background": "light"
     },
     "output_type": "display_data"
    }
   ],
   "source": [
    "import matplotlib.pyplot as plt\n",
    "flat_center = flat.pivot_table(index='cityCenters_nearest', values='last_price', aggfunc='median')\n",
    "flat_center.boxplot()\n",
    "plt.ylim(1000000, 20000000)"
   ]
  },
  {
   "cell_type": "code",
   "execution_count": 42,
   "metadata": {},
   "outputs": [
    {
     "data": {
      "text/plain": [
       "Text(0, 0.5, 'Цена за метр')"
      ]
     },
     "execution_count": 42,
     "metadata": {},
     "output_type": "execute_result"
    },
    {
     "data": {
      "image/png": "[encoded data removed]",
      "text/plain": [
       "<Figure size 432x288 with 1 Axes>"
      ]
     },
     "metadata": {
      "needs_background": "light"
     },
     "output_type": "display_data"
    }
   ],
   "source": [
    "#выбрали 10 населенных пунктов, с наибольшим количеством объявлений и определили в каких их них метр дороже\n",
    "flat_locality = flat['locality_name'].value_counts().sort_values(ascending=False).head(10)\n",
    "\n",
    "(flat\n",
    "     .query('locality_name in @flat_locality.index')\n",
    "     .pivot_table(index='locality_name', values='price_for_m')\n",
    "     .plot(kind='bar', grid=True)\n",
    ")\n",
    "plt.xlabel(\"Населенный пункт\")\n",
    "plt.ylabel(\"Цена за метр\")"
   ]
  },
  {
   "cell_type": "code",
   "execution_count": 43,
   "metadata": {},
   "outputs": [
    {
     "name": "stderr",
     "output_type": "stream",
     "text": [
      "C:\\Users\\asus\\Anaconda3\\lib\\site-packages\\ipykernel_launcher.py:6: SettingWithCopyWarning: \n",
      "A value is trying to be set on a copy of a slice from a DataFrame\n",
      "\n",
      "See the caveats in the documentation: http://pandas.pydata.org/pandas-docs/stable/user_guide/indexing.html#returning-a-view-versus-a-copy\n",
      "  \n",
      "C:\\Users\\asus\\Anaconda3\\lib\\site-packages\\ipykernel_launcher.py:7: SettingWithCopyWarning: \n",
      "A value is trying to be set on a copy of a slice from a DataFrame.\n",
      "Try using .loc[row_indexer,col_indexer] = value instead\n",
      "\n",
      "See the caveats in the documentation: http://pandas.pydata.org/pandas-docs/stable/user_guide/indexing.html#returning-a-view-versus-a-copy\n",
      "  import sys\n",
      "C:\\Users\\asus\\Anaconda3\\lib\\site-packages\\ipykernel_launcher.py:8: SettingWithCopyWarning: \n",
      "A value is trying to be set on a copy of a slice from a DataFrame.\n",
      "Try using .loc[row_indexer,col_indexer] = value instead\n",
      "\n",
      "See the caveats in the documentation: http://pandas.pydata.org/pandas-docs/stable/user_guide/indexing.html#returning-a-view-versus-a-copy\n",
      "  \n"
     ]
    },
    {
     "data": {
      "text/plain": [
       "Text(0, 0.5, 'Цена за метр')"
      ]
     },
     "execution_count": 43,
     "metadata": {},
     "output_type": "execute_result"
    },
    {
     "data": {
      "image/png": "[encoded data removed]",
      "text/plain": [
       "<Figure size 432x288 with 1 Axes>"
      ]
     },
     "metadata": {
      "needs_background": "light"
     },
     "output_type": "display_data"
    }
   ],
   "source": [
    "#сделали срез данных по Санкт-Петербургу\n",
    "#затем удалили пропущенные значения\n",
    "#добавили столбец с расстоянием в км до центра, перевели его целочисленный тип\n",
    "#создали сводную таблицу по цене за метр в зависимости от расстояния до центра и построили график\n",
    "flat_spb = flat.query('locality_name == \"Санкт-Петербург\"')\n",
    "flat_spb.dropna(subset=['cityCenters_nearest'], inplace=True)\n",
    "flat_spb['center_km'] = flat_spb['cityCenters_nearest'] / 1000 \n",
    "flat_spb['center_km'] = flat_spb['center_km'].astype('int')\n",
    "spb = flat_spb.pivot_table(index='center_km', values='price_for_m')\n",
    "spb.plot(style='o-')\n",
    "plt.xlabel(\"Расстояние до центра, км\")\n",
    "plt.ylabel(\"Цена за метр\")"
   ]
  },
  {
   "cell_type": "code",
   "execution_count": 44,
   "metadata": {},
   "outputs": [
    {
     "data": {
      "text/plain": [
       "-0.3138441833258912"
      ]
     },
     "execution_count": 44,
     "metadata": {},
     "output_type": "execute_result"
    }
   ],
   "source": [
    "#рассчитали коэффициент корреляции для зависимости цены от расстояния до центра\n",
    "flat_spb['center_km'].corr(flat_spb['price_for_m'])"
   ]
  },
  {
   "cell_type": "code",
   "execution_count": 45,
   "metadata": {},
   "outputs": [
    {
     "data": {
      "text/plain": [
       "Text(0, 0.5, 'Количество')"
      ]
     },
     "execution_count": 45,
     "metadata": {},
     "output_type": "execute_result"
    },
    {
     "data": {
      "image/png": "[encoded data removed]",
      "text/plain": [
       "<Figure size 432x288 with 1 Axes>"
      ]
     },
     "metadata": {
      "needs_background": "light"
     },
     "output_type": "display_data"
    }
   ],
   "source": [
    "#изучили общую площадь квартир в центре и городе\n",
    "flat_center = flat_spb.query('center_km <= 3')\n",
    "center_total_area = flat_center.pivot_table(index='price_for_m', values='total_area', aggfunc='median')\n",
    "spb_total_area = flat_spb.pivot_table(index='price_for_m', values='total_area', aggfunc='median')\n",
    "\n",
    "ax = center_total_area.plot(kind='hist', y='total_area', histtype='step', range=(0, 200), bins=20, linewidth=5, alpha=0.7, label='Центр')\n",
    "spb_total_area.plot(kind='hist', y='total_area', histtype='step', range=(0, 200), bins=20, linewidth=5, alpha=0.7, label='Город', ax=ax, grid=True, legend=True)\n",
    "plt.xlabel(\"Общая площадь, м2\")\n",
    "plt.ylabel(\"Количество\")"
   ]
  },
  {
   "cell_type": "code",
   "execution_count": 46,
   "metadata": {},
   "outputs": [
    {
     "data": {
      "text/plain": [
       "Text(0, 0.5, 'Количество')"
      ]
     },
     "execution_count": 46,
     "metadata": {},
     "output_type": "execute_result"
    },
    {
     "data": {
      "image/png": "[encoded data removed]",
      "text/plain": [
       "<Figure size 432x288 with 1 Axes>"
      ]
     },
     "metadata": {
      "needs_background": "light"
     },
     "output_type": "display_data"
    }
   ],
   "source": [
    "#изучили стоимость квартир в центре и городе\n",
    "flat_center = flat_spb.query('center_km <= 3')\n",
    "center_price = flat_center.pivot_table(index='price_for_m', values='last_price', aggfunc='median')\n",
    "spb_price = flat_spb.pivot_table(index='price_for_m', values='last_price', aggfunc='median')\n",
    "\n",
    "ax = center_price.plot(kind='hist', y='last_price', histtype='step', range=(0, 20000000), bins=20, linewidth=5, alpha=0.7, label='Центр')\n",
    "spb_price.plot(kind='hist', y='last_price', histtype='step', range=(0, 20000000), bins=20, linewidth=5, alpha=0.7, label='Город', ax=ax, grid=True, legend=True)\n",
    "plt.xlabel(\"Цена\")\n",
    "plt.ylabel(\"Количество\")"
   ]
  },
  {
   "cell_type": "code",
   "execution_count": 47,
   "metadata": {},
   "outputs": [
    {
     "data": {
      "text/plain": [
       "Text(0, 0.5, 'Количество')"
      ]
     },
     "execution_count": 47,
     "metadata": {},
     "output_type": "execute_result"
    },
    {
     "data": {
      "image/png": "[encoded data removed]",
      "text/plain": [
       "<Figure size 432x288 with 1 Axes>"
      ]
     },
     "metadata": {
      "needs_background": "light"
     },
     "output_type": "display_data"
    }
   ],
   "source": [
    "#изучили количество комнат в квартирах в центре и в городе\n",
    "flat_center = flat_spb.query('center_km <= 3')\n",
    "center_rooms = flat_center.pivot_table(index='price_for_m', values='rooms', aggfunc='median')\n",
    "spb_rooms = flat_spb.pivot_table(index='price_for_m', values='rooms', aggfunc='median')\n",
    "\n",
    "ax = center_rooms.plot(kind='hist', y='rooms', histtype='step', range=(0, 10), bins=10, linewidth=5, alpha=0.7, label='Центр')\n",
    "spb_rooms.plot(kind='hist', y='rooms', histtype='step', range=(0, 10), bins=10, linewidth=5, alpha=0.7, label='Город', ax=ax, grid=True, legend=True)\n",
    "plt.xlabel(\"Количество комнат\")\n",
    "plt.ylabel(\"Количество\")"
   ]
  },
  {
   "cell_type": "code",
   "execution_count": 48,
   "metadata": {},
   "outputs": [
    {
     "data": {
      "text/plain": [
       "Text(0, 0.5, 'Количество')"
      ]
     },
     "execution_count": 48,
     "metadata": {},
     "output_type": "execute_result"
    },
    {
     "data": {
      "image/png": "[encoded data removed]",
      "text/plain": [
       "<Figure size 432x288 with 1 Axes>"
      ]
     },
     "metadata": {
      "needs_background": "light"
     },
     "output_type": "display_data"
    }
   ],
   "source": [
    "#изучили высоту потолков  в квартирах в центре и в городе\n",
    "flat_center = flat_spb.query('center_km <= 3')\n",
    "center_ch = flat_center.pivot_table(index='price_for_m', values='ceiling_height', aggfunc='median')\n",
    "spb_ch = flat_spb.pivot_table(index='price_for_m', values='ceiling_height', aggfunc='median')\n",
    "\n",
    "ax = center_ch.plot(kind='hist', y='ceiling_height', histtype='step', range=(0, 6), bins=10, linewidth=5, alpha=0.7, label='Центр')\n",
    "spb_ch.plot(kind='hist', y='ceiling_height', histtype='step', range=(0, 6), bins=10, linewidth=5, alpha=0.7, label='Город', ax=ax, grid=True, legend=True)\n",
    "plt.xlabel(\"Высота потолков\")\n",
    "plt.ylabel(\"Количество\")"
   ]
  },
  {
   "cell_type": "markdown",
   "metadata": {},
   "source": [
    "#### Вывод\n",
    "Мы выделили 10 населенных пунктов с большим количеством объявлений и выяснили, что дороже всего стоят квартиры в Санкт-Петербурге, дешевле-в Выборге.\n",
    "Изучили квартиры в Санкт-Петербурге, для начала определим центр города, для этого построим график зависимости цены за квартиру от расстояния до центра, тем самым определили, что за центр можно принять 3 км, дальше будем работать с этими данными при сравнении параметров в центре города и в общем по городу. Мы сравнивали площадь квартир, цены, количество комнат и высоту потолков. В центре квартиры сравнительно больше, значительная часть из низ от 60 до 100 м2, тогда как в общем по городу квартиры в районе 45-50 м2. Квартиры в центре в основном многокомнатные, с высокими потолками и стоят гораздо дороже, чем в общем по городу."
   ]
  },
  {
   "cell_type": "code",
   "execution_count": 49,
   "metadata": {},
   "outputs": [
    {
     "data": {
      "text/plain": [
       "Text(0, 0.5, 'Цена')"
      ]
     },
     "execution_count": 49,
     "metadata": {},
     "output_type": "execute_result"
    },
    {
     "data": {
      "image/png": "[encoded data removed]",
      "text/plain": [
       "<Figure size 432x288 with 1 Axes>"
      ]
     },
     "metadata": {
      "needs_background": "light"
     },
     "output_type": "display_data"
    }
   ],
   "source": [
    "#проанализировали цену на квартиры в центре и в городе в зависимости от количества комнат\n",
    "flat_center = flat_spb.query('center_km <= 3')\n",
    "center_rooms_price = flat_center.pivot_table(index='rooms', values='last_price')\n",
    "spb_rooms_price = flat_spb.pivot_table(index='rooms', values='last_price')\n",
    "\n",
    "ax = center_rooms_price.plot(kind='bar', y='last_price', linewidth=5, alpha=0.7, label='Центр', color='red')\n",
    "spb_rooms_price.plot(kind='bar', y='last_price', linewidth=5, alpha=0.5, label='Город', ax=ax, grid=True, legend=True)\n",
    "plt.xlabel(\"Количество комнат\")\n",
    "plt.ylabel(\"Цена\")"
   ]
  },
  {
   "cell_type": "code",
   "execution_count": 50,
   "metadata": {},
   "outputs": [
    {
     "data": {
      "text/plain": [
       "Text(0, 0.5, 'Цена')"
      ]
     },
     "execution_count": 50,
     "metadata": {},
     "output_type": "execute_result"
    },
    {
     "data": {
      "image/png": "[encoded data removed]",
      "text/plain": [
       "<Figure size 432x288 with 1 Axes>"
      ]
     },
     "metadata": {
      "needs_background": "light"
     },
     "output_type": "display_data"
    }
   ],
   "source": [
    "#проанализировали цену на квартиры в центре и в городе в зависимости от этажа\n",
    "flat_center = flat_spb.query('center_km <= 3')\n",
    "center_floor_price = flat_center.pivot_table(index='floor_group', values='last_price')\n",
    "spb_floor_price = flat_spb.pivot_table(index='floor_group', values='last_price')\n",
    "\n",
    "ax = center_floor_price.plot(kind='bar', y='last_price', linewidth=5, alpha=0.7, label='Центр', color='red')\n",
    "spb_floor_price.plot(kind='bar', y='last_price', linewidth=5, alpha=0.5, label='Город', ax=ax, grid=True, legend=True)\n",
    "plt.xlabel(\"Тип этажа\")\n",
    "plt.ylabel(\"Цена\")"
   ]
  },
  {
   "cell_type": "code",
   "execution_count": 51,
   "metadata": {},
   "outputs": [
    {
     "data": {
      "text/plain": [
       "Text(0, 0.5, 'Цена')"
      ]
     },
     "execution_count": 51,
     "metadata": {},
     "output_type": "execute_result"
    },
    {
     "data": {
      "image/png": "[encoded data removed]",
      "text/plain": [
       "<Figure size 432x288 with 1 Axes>"
      ]
     },
     "metadata": {
      "needs_background": "light"
     },
     "output_type": "display_data"
    }
   ],
   "source": [
    "#проанализировали цену на квартиры в зависимости от расстояния до центра\n",
    "flat_center = flat_spb.query('center_km <= 3')\n",
    "center_center_price = flat_center.pivot_table(index='center_km', values='last_price')\n",
    "spb_center_price = flat_spb.pivot_table(index='center_km', values='last_price')\n",
    "\n",
    "ax = center_center_price.plot(kind='bar', y='last_price', linewidth=5, alpha=0.7, label='Центр', color='red')\n",
    "spb_center_price.plot(kind='bar', y='last_price', linewidth=5, alpha=0.5, label='Город', ax=ax, grid=True, legend=True)\n",
    "plt.xlabel(\"Расстояние до центра, км\")\n",
    "plt.ylabel(\"Цена\")"
   ]
  },
  {
   "cell_type": "code",
   "execution_count": 52,
   "metadata": {},
   "outputs": [
    {
     "data": {
      "text/plain": [
       "Text(0, 0.5, 'Цена')"
      ]
     },
     "execution_count": 52,
     "metadata": {},
     "output_type": "execute_result"
    },
    {
     "data": {
      "image/png": "[encoded data removed]",
      "text/plain": [
       "<Figure size 432x288 with 1 Axes>"
      ]
     },
     "metadata": {
      "needs_background": "light"
     },
     "output_type": "display_data"
    }
   ],
   "source": [
    "#проанализировали цену на квартиры в центре и в городе в зависимости от года продажи\n",
    "flat_center = flat_spb.query('center_km <= 3')\n",
    "center_day_price = flat_center.pivot_table(index='first_day_exposition', values='last_price')\n",
    "spb_day_price = flat_spb.pivot_table(index='first_day_exposition', values='last_price')\n",
    "\n",
    "ax = center_day_price.plot(kind='bar', y='last_price', linewidth=5, alpha=0.7, label='Центр', color='red')\n",
    "spb_day_price.plot(kind='bar', y='last_price', linewidth=5, alpha=0.5, label='Город', ax=ax, grid=True, legend=True)\n",
    "plt.xlabel(\"Год объявления\")\n",
    "plt.ylabel(\"Цена\")"
   ]
  },
  {
   "cell_type": "markdown",
   "metadata": {},
   "source": [
    "#### Вывод\n",
    "Мы проанализировали цену в общем по городу и в центре в зависимости от различных параметров. Например, в центре оказались дороже всего 9-комнатные квартиры, а в общем по городу 12-комнтаные. Квартиры на первом этаже оценивают всегда дешевле, чем квартиры на последнем, это работает для любой территории. С ценами тоже все понятно, чем ближе к центру, тем цены дороже, есть так же значительный рост цены на 27 км от центра, возможно там располагается элитная загородная зона. В 2014 году квартиры стоили значительно дороже, чем в 18-19 годах, это так же одинаково для города и центра."
   ]
  },
  {
   "cell_type": "code",
   "execution_count": 53,
   "metadata": {},
   "outputs": [
    {
     "data": {
      "text/plain": [
       "0.37237533826763347"
      ]
     },
     "execution_count": 53,
     "metadata": {},
     "output_type": "execute_result"
    }
   ],
   "source": [
    "flat_spb['rooms'].corr(flat_spb['last_price'])"
   ]
  },
  {
   "cell_type": "code",
   "execution_count": 54,
   "metadata": {},
   "outputs": [
    {
     "data": {
      "text/plain": [
       "-0.0008379427208810813"
      ]
     },
     "execution_count": 54,
     "metadata": {},
     "output_type": "execute_result"
    }
   ],
   "source": [
    "flat_spb['floor'].corr(flat_spb['last_price'])"
   ]
  },
  {
   "cell_type": "code",
   "execution_count": 55,
   "metadata": {},
   "outputs": [
    {
     "data": {
      "text/plain": [
       "-0.2609187620493306"
      ]
     },
     "execution_count": 55,
     "metadata": {},
     "output_type": "execute_result"
    }
   ],
   "source": [
    "flat_spb['center_km'].corr(flat_spb['last_price'])"
   ]
  },
  {
   "cell_type": "code",
   "execution_count": 56,
   "metadata": {},
   "outputs": [
    {
     "data": {
      "text/plain": [
       "-0.0445905696488536"
      ]
     },
     "execution_count": 56,
     "metadata": {},
     "output_type": "execute_result"
    }
   ],
   "source": [
    "flat_spb['first_day_exposition'].corr(flat_spb['last_price'])"
   ]
  },
  {
   "cell_type": "code",
   "execution_count": 57,
   "metadata": {},
   "outputs": [
    {
     "data": {
      "text/html": [
       "<div>\n",
       "<style scoped>\n",
       "    .dataframe tbody tr th:only-of-type {\n",
       "        vertical-align: middle;\n",
       "    }\n",
       "\n",
       "    .dataframe tbody tr th {\n",
       "        vertical-align: top;\n",
       "    }\n",
       "\n",
       "    .dataframe thead th {\n",
       "        text-align: right;\n",
       "    }\n",
       "</style>\n",
       "<table border=\"1\" class=\"dataframe\">\n",
       "  <thead>\n",
       "    <tr style=\"text-align: right;\">\n",
       "      <th></th>\n",
       "      <th>center_km</th>\n",
       "      <th>floor</th>\n",
       "      <th>price_for_m</th>\n",
       "      <th>rooms</th>\n",
       "    </tr>\n",
       "  </thead>\n",
       "  <tbody>\n",
       "    <tr>\n",
       "      <td>center_km</td>\n",
       "      <td>1.000000</td>\n",
       "      <td>0.171749</td>\n",
       "      <td>-0.386243</td>\n",
       "      <td>-0.398370</td>\n",
       "    </tr>\n",
       "    <tr>\n",
       "      <td>floor</td>\n",
       "      <td>0.171749</td>\n",
       "      <td>1.000000</td>\n",
       "      <td>-0.072001</td>\n",
       "      <td>-0.091855</td>\n",
       "    </tr>\n",
       "    <tr>\n",
       "      <td>price_for_m</td>\n",
       "      <td>-0.386243</td>\n",
       "      <td>-0.072001</td>\n",
       "      <td>1.000000</td>\n",
       "      <td>0.257674</td>\n",
       "    </tr>\n",
       "    <tr>\n",
       "      <td>rooms</td>\n",
       "      <td>-0.398370</td>\n",
       "      <td>-0.091855</td>\n",
       "      <td>0.257674</td>\n",
       "      <td>1.000000</td>\n",
       "    </tr>\n",
       "  </tbody>\n",
       "</table>\n",
       "</div>"
      ],
      "text/plain": [
       "             center_km     floor  price_for_m     rooms\n",
       "center_km     1.000000  0.171749    -0.386243 -0.398370\n",
       "floor         0.171749  1.000000    -0.072001 -0.091855\n",
       "price_for_m  -0.386243 -0.072001     1.000000  0.257674\n",
       "rooms        -0.398370 -0.091855     0.257674  1.000000"
      ]
     },
     "execution_count": 57,
     "metadata": {},
     "output_type": "execute_result"
    },
    {
     "data": {
      "image/png": "[encoded data removed]",
      "text/plain": [
       "<Figure size 720x720 with 16 Axes>"
      ]
     },
     "metadata": {
      "needs_background": "light"
     },
     "output_type": "display_data"
    }
   ],
   "source": [
    "#построили матрицу корреляции\n",
    "spb = flat_spb.pivot_table(index='last_price', values=['rooms', 'floor', 'center_km', 'price_for_m'])\n",
    "pd.plotting.scatter_matrix(spb, figsize=(10, 10))\n",
    "spb.corr()"
   ]
  },
  {
   "cell_type": "markdown",
   "metadata": {},
   "source": [
    "#### Вывод\n",
    "Мы рассчитали коэффициенты корелляции для таких параметров как: количество комнат, расстояние до центра, этаж и год размещения объявления. Мы видим, что взаимосвязь выражена слабо, можно выразить разве что при увеличении комнат в квартире, цена на нее увеличивается. А при увеличении расстояния от центра, цена на квартиру снижается.\n",
    "Из данных по матрице корреляции мы подтверждаем взаимозависимость цены от количества комнат, а так же взаимозависимость цены от расстояния до центра."
   ]
  },
  {
   "cell_type": "markdown",
   "metadata": {},
   "source": [
    "### Шаг 5. Общий вывод\n",
    "* Из анализа данных мы узнали, что в среднем объвления были размещены 156 дней до продажи, чаще всего квартиры покупали через 73 дня после размещения.\n",
    "На гистограмме по дням размещения мы видим, что есть пики значений на 45 и 60 днях. \n",
    "Это, вероятно, связано с тем, что были платные сроки размещения, которые истекали через 45 и 60 дней соответственно. \n",
    "* Так же мы видим, на гистограмме зависимости площади от цены, что чем больше площадь квартиры, тем дешевле ее квадратный метр. Самые выгодные квартиры с площадью более 180 метров. По такой же схеме распределены цены в зависимости от количества комнат, чем их больше, чем ниже цена на них. Самый дешевый метр у 4-х и более комнатных квартир, самый дорогой-у 1-2-хкомнатных.\n",
    "* Проанализировав цену за квартиры в зависимости от этажности квартиры, мы получили вывод, что на первом этаже квартиры стоят дешевле, чем на этажах выше.\n",
    "* Мы определили 10 населнных пунктов с наибольшим количеством объвлений. На диаграмме видно, что самый дорогой метр в Санкт-Петербурге и Пушкине, а самый дешевый в Выборге, почте в два раза дешевле.\n",
    "* На графике зависимости цены за метр от расстояния до центра видно, что идет резкое снижение цены в районе 3-х км, значит примем 3 км за границы центра.\n",
    "\n",
    "\n",
    "* Далее мы сравнивали характеристики квартир в городе Санкт-Петербург и в его центре. Мы получили следующие наблюдения: \n",
    "  * В центре города больше всего квартир площадью от 60 до 100 метров, в то время как в самом городе продаются чаще всего квартиры от 45 до 50 метров.\n",
    "  * В центре больше всего квартир по цене от 6 до 10 млн.руб., в самом городе от 4 до 5 млн.руб.\n",
    "  * В центре больше всего 3 и 4-хкомнатных квартир, в самом городе больше 2 и 3-чкомнатных квартир.\n",
    "  * В центре квартиры с высотой потолков в диапазонах от 1.80 до 2.45 м. и от 3 до 3.5 м., а в городе очень мало потолков 3-3.5 метра, зато большинство от 1.8 до 2.45 метров.\n",
    " \n",
    " \n",
    "* Затем мы проанализировали цены в зависимости от различных параметров. Мы получили следующие наблюдения:\n",
    "  * Самые дорогие квартиры в центре это 7-8-9-комнатные квартиры, в городе оказались самые дорогие-это 12-комнатные. Самые недорогие квартиры-однокомнатные.\n",
    "  * Самые недорогие квартиры на первом этаже, самые дорогие на последнем.\n",
    "  * Самые дорогие квартиры в центре, в городе тоже есть дорогие квартиры, в районах до 7 км от центра.\n",
    "  * Самые высокие цены за жилье были в 2014 году, а 2018 году квартиры стояли в два раза дешевле, чем в 2014.\n",
    "  \n",
    "Теперь мы знаем, какие параметры влияют на цену. Например очевидно, что квартиры в центре, на последнем этаже стоят дороже, чем за пределами центра. В центре продаются квартиры с большей площадью и высокими потолками, при этом их метр гораздо дешевле, чем например, у квартир меньшей площади. Квадратный метр многокомнатных квартир также гораздо дешевле метра 1-2-комнатных квартир. В Санкт-Петербурге самые дорогие квартиры по сравнению с другими населенными пунктами в данных."
   ]
  }
 ],
 "metadata": {
  "kernelspec": {
   "display_name": "Python 3",
   "language": "python",
   "name": "python3"
  },
  "language_info": {
   "codemirror_mode": {
    "name": "ipython",
    "version": 3
   },
   "file_extension": ".py",
   "mimetype": "text/x-python",
   "name": "python",
   "nbconvert_exporter": "python",
   "pygments_lexer": "ipython3",
   "version": "3.7.4"
  }
 },
 "nbformat": 4,
 "nbformat_minor": 2
}
